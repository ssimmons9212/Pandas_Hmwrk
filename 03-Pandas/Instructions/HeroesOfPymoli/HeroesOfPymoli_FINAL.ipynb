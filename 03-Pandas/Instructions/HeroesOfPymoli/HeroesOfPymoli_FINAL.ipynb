{
 "cells": [
  {
   "cell_type": "markdown",
   "metadata": {},
   "source": [
    "### Note\n",
    "* Instructions have been included for each segment. You do not have to follow them exactly, but they are included to help you think through the steps."
   ]
  },
  {
   "cell_type": "code",
   "execution_count": 3,
   "metadata": {},
   "outputs": [
    {
     "data": {
      "text/html": [
       "<div>\n",
       "<style scoped>\n",
       "    .dataframe tbody tr th:only-of-type {\n",
       "        vertical-align: middle;\n",
       "    }\n",
       "\n",
       "    .dataframe tbody tr th {\n",
       "        vertical-align: top;\n",
       "    }\n",
       "\n",
       "    .dataframe thead th {\n",
       "        text-align: right;\n",
       "    }\n",
       "</style>\n",
       "<table border=\"1\" class=\"dataframe\">\n",
       "  <thead>\n",
       "    <tr style=\"text-align: right;\">\n",
       "      <th></th>\n",
       "      <th>Purchase ID</th>\n",
       "      <th>SN</th>\n",
       "      <th>Age</th>\n",
       "      <th>Gender</th>\n",
       "      <th>Item ID</th>\n",
       "      <th>Item Name</th>\n",
       "      <th>Price</th>\n",
       "    </tr>\n",
       "  </thead>\n",
       "  <tbody>\n",
       "    <tr>\n",
       "      <th>0</th>\n",
       "      <td>0</td>\n",
       "      <td>Lisim78</td>\n",
       "      <td>20</td>\n",
       "      <td>Male</td>\n",
       "      <td>108</td>\n",
       "      <td>Extraction, Quickblade Of Trembling Hands</td>\n",
       "      <td>3.53</td>\n",
       "    </tr>\n",
       "    <tr>\n",
       "      <th>1</th>\n",
       "      <td>1</td>\n",
       "      <td>Lisovynya38</td>\n",
       "      <td>40</td>\n",
       "      <td>Male</td>\n",
       "      <td>143</td>\n",
       "      <td>Frenzied Scimitar</td>\n",
       "      <td>1.56</td>\n",
       "    </tr>\n",
       "    <tr>\n",
       "      <th>2</th>\n",
       "      <td>2</td>\n",
       "      <td>Ithergue48</td>\n",
       "      <td>24</td>\n",
       "      <td>Male</td>\n",
       "      <td>92</td>\n",
       "      <td>Final Critic</td>\n",
       "      <td>4.88</td>\n",
       "    </tr>\n",
       "    <tr>\n",
       "      <th>3</th>\n",
       "      <td>3</td>\n",
       "      <td>Chamassasya86</td>\n",
       "      <td>24</td>\n",
       "      <td>Male</td>\n",
       "      <td>100</td>\n",
       "      <td>Blindscythe</td>\n",
       "      <td>3.27</td>\n",
       "    </tr>\n",
       "    <tr>\n",
       "      <th>4</th>\n",
       "      <td>4</td>\n",
       "      <td>Iskosia90</td>\n",
       "      <td>23</td>\n",
       "      <td>Male</td>\n",
       "      <td>131</td>\n",
       "      <td>Fury</td>\n",
       "      <td>1.44</td>\n",
       "    </tr>\n",
       "  </tbody>\n",
       "</table>\n",
       "</div>"
      ],
      "text/plain": [
       "   Purchase ID             SN  Age Gender  Item ID  \\\n",
       "0            0        Lisim78   20   Male      108   \n",
       "1            1    Lisovynya38   40   Male      143   \n",
       "2            2     Ithergue48   24   Male       92   \n",
       "3            3  Chamassasya86   24   Male      100   \n",
       "4            4      Iskosia90   23   Male      131   \n",
       "\n",
       "                                   Item Name  Price  \n",
       "0  Extraction, Quickblade Of Trembling Hands   3.53  \n",
       "1                          Frenzied Scimitar   1.56  \n",
       "2                               Final Critic   4.88  \n",
       "3                                Blindscythe   3.27  \n",
       "4                                       Fury   1.44  "
      ]
     },
     "execution_count": 3,
     "metadata": {},
     "output_type": "execute_result"
    }
   ],
   "source": [
    "# Dependencies and Setup\n",
    "import pandas as pd\n",
    "import numpy as np\n",
    "from matplotlib import pyplot as plt\n",
    "\n",
    "# File to Load (Remember to Change These)\n",
    "file_to_load = \"Resources/purchase_data.csv\"\n",
    "\n",
    "# Read Purchasing File and store into Pandas data frame\n",
    "purchase_data = pd.read_csv(file_to_load)\n",
    "pd_df = pd.DataFrame(purchase_data)\n",
    "pd_df.head()"
   ]
  },
  {
   "cell_type": "raw",
   "metadata": {},
   "source": [
    "## Player Count"
   ]
  },
  {
   "cell_type": "markdown",
   "metadata": {},
   "source": [
    "* Display the total number of players\n"
   ]
  },
  {
   "cell_type": "code",
   "execution_count": 4,
   "metadata": {},
   "outputs": [
    {
     "data": {
      "text/html": [
       "<div>\n",
       "<style scoped>\n",
       "    .dataframe tbody tr th:only-of-type {\n",
       "        vertical-align: middle;\n",
       "    }\n",
       "\n",
       "    .dataframe tbody tr th {\n",
       "        vertical-align: top;\n",
       "    }\n",
       "\n",
       "    .dataframe thead th {\n",
       "        text-align: right;\n",
       "    }\n",
       "</style>\n",
       "<table border=\"1\" class=\"dataframe\">\n",
       "  <thead>\n",
       "    <tr style=\"text-align: right;\">\n",
       "      <th></th>\n",
       "      <th>Total Players</th>\n",
       "    </tr>\n",
       "  </thead>\n",
       "  <tbody>\n",
       "    <tr>\n",
       "      <th>0</th>\n",
       "      <td>576</td>\n",
       "    </tr>\n",
       "  </tbody>\n",
       "</table>\n",
       "</div>"
      ],
      "text/plain": [
       "   Total Players\n",
       "0            576"
      ]
     },
     "execution_count": 4,
     "metadata": {},
     "output_type": "execute_result"
    }
   ],
   "source": [
    "# count number of unique players and totals them in new df\n",
    "\n",
    "Total_Players = pd_df.SN.nunique()\n",
    "Avg_Price = pd_df.Price.mean()\n",
    "Total_Revenue = pd_df.Price.sum()\n",
    "Avg_Age = pd_df.Age.mean()\n",
    "Total_Purchase = pd_df['Purchase ID'].nunique()\n",
    "Total_Items = pd_df[\"Item Name\"].nunique()\n",
    "\n",
    "player_data = pd.DataFrame({\"Total Players\": Total_Players,\"Avg Age(years)\":Avg_Age, \"Avg Price($ USD)\": Avg_Price, \"Total Items\": Total_Items, \"Total Purchses\":Total_Purchase, \"Total Revenue($ USD)\": Total_Revenue}, index=[0])\n",
    "player_data_tot = pd.DataFrame({\"Total Players\": Total_Players}, index=[0])\n",
    "player_data_tot\n",
    "\n",
    "\n"
   ]
  },
  {
   "cell_type": "markdown",
   "metadata": {},
   "source": [
    "## Purchasing Analysis (Total)"
   ]
  },
  {
   "cell_type": "markdown",
   "metadata": {},
   "source": [
    "* Run basic calculations to obtain number of unique items, average price, etc.\n",
    "\n",
    "\n",
    "* Create a summary data frame to hold the results\n",
    "\n",
    "\n",
    "* Optional: give the displayed data cleaner formatting\n",
    "\n",
    "\n",
    "* Display the summary data frame\n"
   ]
  },
  {
   "cell_type": "code",
   "execution_count": 5,
   "metadata": {},
   "outputs": [
    {
     "data": {
      "text/html": [
       "<div>\n",
       "<style scoped>\n",
       "    .dataframe tbody tr th:only-of-type {\n",
       "        vertical-align: middle;\n",
       "    }\n",
       "\n",
       "    .dataframe tbody tr th {\n",
       "        vertical-align: top;\n",
       "    }\n",
       "\n",
       "    .dataframe thead th {\n",
       "        text-align: right;\n",
       "    }\n",
       "</style>\n",
       "<table border=\"1\" class=\"dataframe\">\n",
       "  <thead>\n",
       "    <tr style=\"text-align: right;\">\n",
       "      <th></th>\n",
       "      <th>Total Players</th>\n",
       "      <th>Avg Age(years)</th>\n",
       "      <th>Avg Price($ USD)</th>\n",
       "      <th>Total Items</th>\n",
       "      <th>Total Purchses</th>\n",
       "      <th>Total Revenue($ USD)</th>\n",
       "    </tr>\n",
       "  </thead>\n",
       "  <tbody>\n",
       "    <tr>\n",
       "      <th>0</th>\n",
       "      <td>576</td>\n",
       "      <td>22.714103</td>\n",
       "      <td>3.050987</td>\n",
       "      <td>179</td>\n",
       "      <td>780</td>\n",
       "      <td>2379.77</td>\n",
       "    </tr>\n",
       "  </tbody>\n",
       "</table>\n",
       "</div>"
      ],
      "text/plain": [
       "   Total Players  Avg Age(years)  Avg Price($ USD)  Total Items  \\\n",
       "0            576       22.714103          3.050987          179   \n",
       "\n",
       "   Total Purchses  Total Revenue($ USD)  \n",
       "0             780               2379.77  "
      ]
     },
     "execution_count": 5,
     "metadata": {},
     "output_type": "execute_result"
    }
   ],
   "source": [
    "# repriting the df to display all calculated columns\n",
    "player_data\n"
   ]
  },
  {
   "cell_type": "code",
   "execution_count": 6,
   "metadata": {},
   "outputs": [],
   "source": [
    "#pd_df.Gender.unique()"
   ]
  },
  {
   "cell_type": "code",
   "execution_count": 7,
   "metadata": {
    "scrolled": true
   },
   "outputs": [
    {
     "data": {
      "text/html": [
       "<div>\n",
       "<style scoped>\n",
       "    .dataframe tbody tr th:only-of-type {\n",
       "        vertical-align: middle;\n",
       "    }\n",
       "\n",
       "    .dataframe tbody tr th {\n",
       "        vertical-align: top;\n",
       "    }\n",
       "\n",
       "    .dataframe thead th {\n",
       "        text-align: right;\n",
       "    }\n",
       "</style>\n",
       "<table border=\"1\" class=\"dataframe\">\n",
       "  <thead>\n",
       "    <tr style=\"text-align: right;\">\n",
       "      <th></th>\n",
       "      <th>Gender</th>\n",
       "      <th>SN</th>\n",
       "    </tr>\n",
       "  </thead>\n",
       "  <tbody>\n",
       "    <tr>\n",
       "      <th>0</th>\n",
       "      <td>Female</td>\n",
       "      <td>81</td>\n",
       "    </tr>\n",
       "    <tr>\n",
       "      <th>1</th>\n",
       "      <td>Male</td>\n",
       "      <td>484</td>\n",
       "    </tr>\n",
       "    <tr>\n",
       "      <th>2</th>\n",
       "      <td>Other / Non-Disclosed</td>\n",
       "      <td>11</td>\n",
       "    </tr>\n",
       "  </tbody>\n",
       "</table>\n",
       "</div>"
      ],
      "text/plain": [
       "                  Gender   SN\n",
       "0                 Female   81\n",
       "1                   Male  484\n",
       "2  Other / Non-Disclosed   11"
      ]
     },
     "execution_count": 7,
     "metadata": {},
     "output_type": "execute_result"
    }
   ],
   "source": [
    "gen_df = pd.DataFrame(pd_df.groupby('Gender')['SN'].nunique())\n",
    "gen_df_ind = gen_df.reset_index()\n",
    "\n",
    "gen_df_ind"
   ]
  },
  {
   "cell_type": "markdown",
   "metadata": {},
   "source": [
    "## Gender Demographics"
   ]
  },
  {
   "cell_type": "markdown",
   "metadata": {},
   "source": [
    "* Percentage and Count of Male Players\n",
    "\n",
    "\n",
    "* Percentage and Count of Female Players\n",
    "\n",
    "\n",
    "* Percentage and Count of Other / Non-Disclosed\n",
    "\n",
    "\n"
   ]
  },
  {
   "cell_type": "code",
   "execution_count": 59,
   "metadata": {},
   "outputs": [
    {
     "data": {
      "text/html": [
       "<style  type=\"text/css\" >\n",
       "</style><table id=\"T_e71f749e_1ea1_11ea_b9e6_50eb7123bf44\" ><thead>    <tr>        <th class=\"blank level0\" ></th>        <th class=\"col_heading level0 col0\" >Gender</th>        <th class=\"col_heading level0 col1\" >Percent %</th>        <th class=\"col_heading level0 col2\" >Unique Gender Count</th>    </tr></thead><tbody>\n",
       "                <tr>\n",
       "                        <th id=\"T_e71f749e_1ea1_11ea_b9e6_50eb7123bf44level0_row0\" class=\"row_heading level0 row0\" >0</th>\n",
       "                        <td id=\"T_e71f749e_1ea1_11ea_b9e6_50eb7123bf44row0_col0\" class=\"data row0 col0\" >Male</td>\n",
       "                        <td id=\"T_e71f749e_1ea1_11ea_b9e6_50eb7123bf44row0_col1\" class=\"data row0 col1\" >%84.03</td>\n",
       "                        <td id=\"T_e71f749e_1ea1_11ea_b9e6_50eb7123bf44row0_col2\" class=\"data row0 col2\" >81</td>\n",
       "            </tr>\n",
       "            <tr>\n",
       "                        <th id=\"T_e71f749e_1ea1_11ea_b9e6_50eb7123bf44level0_row1\" class=\"row_heading level0 row1\" >1</th>\n",
       "                        <td id=\"T_e71f749e_1ea1_11ea_b9e6_50eb7123bf44row1_col0\" class=\"data row1 col0\" >Female</td>\n",
       "                        <td id=\"T_e71f749e_1ea1_11ea_b9e6_50eb7123bf44row1_col1\" class=\"data row1 col1\" >%14.06</td>\n",
       "                        <td id=\"T_e71f749e_1ea1_11ea_b9e6_50eb7123bf44row1_col2\" class=\"data row1 col2\" >484</td>\n",
       "            </tr>\n",
       "            <tr>\n",
       "                        <th id=\"T_e71f749e_1ea1_11ea_b9e6_50eb7123bf44level0_row2\" class=\"row_heading level0 row2\" >2</th>\n",
       "                        <td id=\"T_e71f749e_1ea1_11ea_b9e6_50eb7123bf44row2_col0\" class=\"data row2 col0\" >Other</td>\n",
       "                        <td id=\"T_e71f749e_1ea1_11ea_b9e6_50eb7123bf44row2_col1\" class=\"data row2 col1\" >%1.91</td>\n",
       "                        <td id=\"T_e71f749e_1ea1_11ea_b9e6_50eb7123bf44row2_col2\" class=\"data row2 col2\" >11</td>\n",
       "            </tr>\n",
       "    </tbody></table>"
      ],
      "text/plain": [
       "<pandas.io.formats.style.Styler at 0x28a04f58888>"
      ]
     },
     "execution_count": 59,
     "metadata": {},
     "output_type": "execute_result"
    }
   ],
   "source": [
    "# define my variable values by extracting cell vlues from data frame then compute new cell values for final dataframe\n",
    "\n",
    "total = gen_df_ind.SN.sum()\n",
    "only_male = gen_df_ind.at[1,'SN']\n",
    "only_female = gen_df_ind.at[0,'SN']\n",
    "only_other = gen_df_ind.at[2,'SN']\n",
    "\n",
    "# calculte percent occurence\n",
    "\n",
    "Male_perc = only_male/total*100\n",
    "Female_perc = only_female/total*100\n",
    "Other_perc = only_other/total*100\n",
    "\n",
    "# create new data frame will all required components\n",
    "\n",
    "perc_df = pd.DataFrame({\"Male\": Male_perc, \"Female\": Female_perc, \"Other\": Other_perc}, index = ['Percent %'])\n",
    "perc_df_final = perc_df.transpose().reset_index()\n",
    "\n",
    "gen_percent = perc_df_final.merge(gen_df_ind, left_index=True, right_index=True)\n",
    "gen_percent.drop(['Gender'],axis=1).rename(columns = {'index':'Gender', 'SN':'Unique Gender Count'}).style.format({'Percent %':'%{0:.2f}'})"
   ]
  },
  {
   "cell_type": "markdown",
   "metadata": {},
   "source": [
    "\n",
    "## Purchasing Analysis (Gender)"
   ]
  },
  {
   "cell_type": "markdown",
   "metadata": {},
   "source": [
    "* Run basic calculations to obtain purchase count, avg. purchase price, avg. purchase total per person etc. by gender\n",
    "\n",
    "\n",
    "\n",
    "\n",
    "* Create a summary data frame to hold the results\n",
    "\n",
    "\n",
    "* Optional: give the displayed data cleaner formatting\n",
    "\n",
    "\n",
    "* Display the summary data frame"
   ]
  },
  {
   "cell_type": "code",
   "execution_count": 65,
   "metadata": {},
   "outputs": [
    {
     "data": {
      "text/html": [
       "<style  type=\"text/css\" >\n",
       "</style><table id=\"T_a6acd0ae_1ea2_11ea_adbb_50eb7123bf44\" ><thead>    <tr>        <th class=\"blank level0\" ></th>        <th class=\"col_heading level0 col0\" >Avg $ Gender</th>        <th class=\"col_heading level0 col1\" >Price Tot. Gender</th>        <th class=\"col_heading level0 col2\" >Purchases Gender</th>        <th class=\"col_heading level0 col3\" >Unique Gen Totals</th>        <th class=\"col_heading level0 col4\" >Avg Total Price Gen</th>    </tr>    <tr>        <th class=\"index_name level0\" >Gender</th>        <th class=\"blank\" ></th>        <th class=\"blank\" ></th>        <th class=\"blank\" ></th>        <th class=\"blank\" ></th>        <th class=\"blank\" ></th>    </tr></thead><tbody>\n",
       "                <tr>\n",
       "                        <th id=\"T_a6acd0ae_1ea2_11ea_adbb_50eb7123bf44level0_row0\" class=\"row_heading level0 row0\" >Female</th>\n",
       "                        <td id=\"T_a6acd0ae_1ea2_11ea_adbb_50eb7123bf44row0_col0\" class=\"data row0 col0\" >$3.20</td>\n",
       "                        <td id=\"T_a6acd0ae_1ea2_11ea_adbb_50eb7123bf44row0_col1\" class=\"data row0 col1\" >$361.94</td>\n",
       "                        <td id=\"T_a6acd0ae_1ea2_11ea_adbb_50eb7123bf44row0_col2\" class=\"data row0 col2\" >113</td>\n",
       "                        <td id=\"T_a6acd0ae_1ea2_11ea_adbb_50eb7123bf44row0_col3\" class=\"data row0 col3\" >$81.00</td>\n",
       "                        <td id=\"T_a6acd0ae_1ea2_11ea_adbb_50eb7123bf44row0_col4\" class=\"data row0 col4\" >$4.47</td>\n",
       "            </tr>\n",
       "            <tr>\n",
       "                        <th id=\"T_a6acd0ae_1ea2_11ea_adbb_50eb7123bf44level0_row1\" class=\"row_heading level0 row1\" >Male</th>\n",
       "                        <td id=\"T_a6acd0ae_1ea2_11ea_adbb_50eb7123bf44row1_col0\" class=\"data row1 col0\" >$3.02</td>\n",
       "                        <td id=\"T_a6acd0ae_1ea2_11ea_adbb_50eb7123bf44row1_col1\" class=\"data row1 col1\" >$1967.64</td>\n",
       "                        <td id=\"T_a6acd0ae_1ea2_11ea_adbb_50eb7123bf44row1_col2\" class=\"data row1 col2\" >652</td>\n",
       "                        <td id=\"T_a6acd0ae_1ea2_11ea_adbb_50eb7123bf44row1_col3\" class=\"data row1 col3\" >$484.00</td>\n",
       "                        <td id=\"T_a6acd0ae_1ea2_11ea_adbb_50eb7123bf44row1_col4\" class=\"data row1 col4\" >$4.07</td>\n",
       "            </tr>\n",
       "            <tr>\n",
       "                        <th id=\"T_a6acd0ae_1ea2_11ea_adbb_50eb7123bf44level0_row2\" class=\"row_heading level0 row2\" >Other / Non-Disclosed</th>\n",
       "                        <td id=\"T_a6acd0ae_1ea2_11ea_adbb_50eb7123bf44row2_col0\" class=\"data row2 col0\" >$3.35</td>\n",
       "                        <td id=\"T_a6acd0ae_1ea2_11ea_adbb_50eb7123bf44row2_col1\" class=\"data row2 col1\" >$50.19</td>\n",
       "                        <td id=\"T_a6acd0ae_1ea2_11ea_adbb_50eb7123bf44row2_col2\" class=\"data row2 col2\" >15</td>\n",
       "                        <td id=\"T_a6acd0ae_1ea2_11ea_adbb_50eb7123bf44row2_col3\" class=\"data row2 col3\" >$11.00</td>\n",
       "                        <td id=\"T_a6acd0ae_1ea2_11ea_adbb_50eb7123bf44row2_col4\" class=\"data row2 col4\" >$4.56</td>\n",
       "            </tr>\n",
       "    </tbody></table>"
      ],
      "text/plain": [
       "<pandas.io.formats.style.Styler at 0x28a04f67088>"
      ]
     },
     "execution_count": 65,
     "metadata": {},
     "output_type": "execute_result"
    }
   ],
   "source": [
    "uni_gen_df = pd.DataFrame({\"Female\": only_female,\"Male\": only_male,\"Other / Non-Disclosed\": only_other }, index = [0])\n",
    "\n",
    "\n",
    "Avgprice_gen = pd_df.groupby('Gender')['Price'].mean()\n",
    "#print(Avgprice_gen)\n",
    "Sumprice_gen = pd_df.groupby('Gender')['Price'].sum()\n",
    "#print(Sumprice_gen)\n",
    "Countprice_gen = pd_df.groupby('Gender')['Price'].count()\n",
    "#print(Countprice_gen)\n",
    "\n",
    "\n",
    "gen_group_df = pd.DataFrame({\"Avg Price Gender\":Avgprice_gen, \"Total Price Gender\": Sumprice_gen, \"Purchase Count Gender\": Countprice_gen}).reset_index()\n",
    "gen_group_new = gen_group_df.merge(gen_df_ind)\n",
    "gen_group = gen_group_new.rename(columns = {'Gender':\"Gender\", 'Avg Price Gender': \"Avg $ Gender\", 'Total Price Gender':'Price Tot. Gender', 'Purchase Count Gender':\"Purchases Gender\", 'SN':\"Unique Gen Totals\"})\n",
    "gen_group['Avg Total Price Gen'] = gen_group['Price Tot. Gender']/(gen_group['Unique Gen Totals']) \n",
    "\n",
    "gen_group.set_index('Gender').style.format({'Avg $ Gender':'${0:.2f}','Price Tot. Gender':'${0:.2f}',\"Avg Total Price Gen\": '${0:.2f}',\"Unique Gen Totals\": '${0:.2f}'})\n"
   ]
  },
  {
   "cell_type": "markdown",
   "metadata": {},
   "source": [
    "## Age Demographics"
   ]
  },
  {
   "cell_type": "markdown",
   "metadata": {},
   "source": [
    "* Establish bins for ages\n",
    "\n",
    "\n",
    "* Categorize the existing players using the age bins. Hint: use pd.cut()\n",
    "\n",
    "\n",
    "* Calculate the numbers and percentages by age group\n",
    "\n",
    "\n",
    "* Create a summary data frame to hold the results\n",
    "\n",
    "\n",
    "* Optional: round the percentage column to two decimal points\n",
    "\n",
    "\n",
    "* Display Age Demographics Table\n"
   ]
  },
  {
   "cell_type": "code",
   "execution_count": 66,
   "metadata": {},
   "outputs": [
    {
     "data": {
      "text/html": [
       "<style  type=\"text/css\" >\n",
       "</style><table id=\"T_ddbcb188_1ea2_11ea_adbb_50eb7123bf44\" ><thead>    <tr>        <th class=\"blank level0\" ></th>        <th class=\"col_heading level0 col0\" >Avg Price Age</th>        <th class=\"col_heading level0 col1\" >Total Price Avg</th>        <th class=\"col_heading level0 col2\" >Unique Players</th>        <th class=\"col_heading level0 col3\" >Avg Tot per Person</th>        <th class=\"col_heading level0 col4\" >Percent Player by Age group</th>    </tr>    <tr>        <th class=\"index_name level0\" >Age</th>        <th class=\"blank\" ></th>        <th class=\"blank\" ></th>        <th class=\"blank\" ></th>        <th class=\"blank\" ></th>        <th class=\"blank\" ></th>    </tr></thead><tbody>\n",
       "                <tr>\n",
       "                        <th id=\"T_ddbcb188_1ea2_11ea_adbb_50eb7123bf44level0_row0\" class=\"row_heading level0 row0\" >(0, 10]</th>\n",
       "                        <td id=\"T_ddbcb188_1ea2_11ea_adbb_50eb7123bf44row0_col0\" class=\"data row0 col0\" >$3.40</td>\n",
       "                        <td id=\"T_ddbcb188_1ea2_11ea_adbb_50eb7123bf44row0_col1\" class=\"data row0 col1\" >$108.96</td>\n",
       "                        <td id=\"T_ddbcb188_1ea2_11ea_adbb_50eb7123bf44row0_col2\" class=\"data row0 col2\" >24</td>\n",
       "                        <td id=\"T_ddbcb188_1ea2_11ea_adbb_50eb7123bf44row0_col3\" class=\"data row0 col3\" >$4.54</td>\n",
       "                        <td id=\"T_ddbcb188_1ea2_11ea_adbb_50eb7123bf44row0_col4\" class=\"data row0 col4\" >%3.08</td>\n",
       "            </tr>\n",
       "            <tr>\n",
       "                        <th id=\"T_ddbcb188_1ea2_11ea_adbb_50eb7123bf44level0_row1\" class=\"row_heading level0 row1\" >(10, 20]</th>\n",
       "                        <td id=\"T_ddbcb188_1ea2_11ea_adbb_50eb7123bf44row1_col0\" class=\"data row1 col0\" >$3.06</td>\n",
       "                        <td id=\"T_ddbcb188_1ea2_11ea_adbb_50eb7123bf44row1_col1\" class=\"data row1 col1\" >$778.16</td>\n",
       "                        <td id=\"T_ddbcb188_1ea2_11ea_adbb_50eb7123bf44row1_col2\" class=\"data row1 col2\" >191</td>\n",
       "                        <td id=\"T_ddbcb188_1ea2_11ea_adbb_50eb7123bf44row1_col3\" class=\"data row1 col3\" >$4.07</td>\n",
       "                        <td id=\"T_ddbcb188_1ea2_11ea_adbb_50eb7123bf44row1_col4\" class=\"data row1 col4\" >%24.49</td>\n",
       "            </tr>\n",
       "            <tr>\n",
       "                        <th id=\"T_ddbcb188_1ea2_11ea_adbb_50eb7123bf44level0_row2\" class=\"row_heading level0 row2\" >(20, 30]</th>\n",
       "                        <td id=\"T_ddbcb188_1ea2_11ea_adbb_50eb7123bf44row2_col0\" class=\"data row2 col0\" >$2.99</td>\n",
       "                        <td id=\"T_ddbcb188_1ea2_11ea_adbb_50eb7123bf44row2_col1\" class=\"data row2 col1\" >$1203.06</td>\n",
       "                        <td id=\"T_ddbcb188_1ea2_11ea_adbb_50eb7123bf44row2_col2\" class=\"data row2 col2\" >291</td>\n",
       "                        <td id=\"T_ddbcb188_1ea2_11ea_adbb_50eb7123bf44row2_col3\" class=\"data row2 col3\" >$4.13</td>\n",
       "                        <td id=\"T_ddbcb188_1ea2_11ea_adbb_50eb7123bf44row2_col4\" class=\"data row2 col4\" >%37.31</td>\n",
       "            </tr>\n",
       "            <tr>\n",
       "                        <th id=\"T_ddbcb188_1ea2_11ea_adbb_50eb7123bf44level0_row3\" class=\"row_heading level0 row3\" >(30, 40]</th>\n",
       "                        <td id=\"T_ddbcb188_1ea2_11ea_adbb_50eb7123bf44row3_col0\" class=\"data row3 col0\" >$3.15</td>\n",
       "                        <td id=\"T_ddbcb188_1ea2_11ea_adbb_50eb7123bf44row3_col1\" class=\"data row3 col1\" >$268.06</td>\n",
       "                        <td id=\"T_ddbcb188_1ea2_11ea_adbb_50eb7123bf44row3_col2\" class=\"data row3 col2\" >63</td>\n",
       "                        <td id=\"T_ddbcb188_1ea2_11ea_adbb_50eb7123bf44row3_col3\" class=\"data row3 col3\" >$4.25</td>\n",
       "                        <td id=\"T_ddbcb188_1ea2_11ea_adbb_50eb7123bf44row3_col4\" class=\"data row3 col4\" >%8.08</td>\n",
       "            </tr>\n",
       "            <tr>\n",
       "                        <th id=\"T_ddbcb188_1ea2_11ea_adbb_50eb7123bf44level0_row4\" class=\"row_heading level0 row4\" >(40, 50]</th>\n",
       "                        <td id=\"T_ddbcb188_1ea2_11ea_adbb_50eb7123bf44row4_col0\" class=\"data row4 col0\" >$3.08</td>\n",
       "                        <td id=\"T_ddbcb188_1ea2_11ea_adbb_50eb7123bf44row4_col1\" class=\"data row4 col1\" >$21.53</td>\n",
       "                        <td id=\"T_ddbcb188_1ea2_11ea_adbb_50eb7123bf44row4_col2\" class=\"data row4 col2\" >7</td>\n",
       "                        <td id=\"T_ddbcb188_1ea2_11ea_adbb_50eb7123bf44row4_col3\" class=\"data row4 col3\" >$3.08</td>\n",
       "                        <td id=\"T_ddbcb188_1ea2_11ea_adbb_50eb7123bf44row4_col4\" class=\"data row4 col4\" >%0.90</td>\n",
       "            </tr>\n",
       "    </tbody></table>"
      ],
      "text/plain": [
       "<pandas.io.formats.style.Styler at 0x28a0135c108>"
      ]
     },
     "execution_count": 66,
     "metadata": {},
     "output_type": "execute_result"
    }
   ],
   "source": [
    "\n",
    "Age_series = pd.cut(pd_df['Age'], bins =[0,10,20,30,40,50])\n",
    "\n",
    "age_seriesAvgprice = pd_df.groupby(Age_series)['Price'].mean()\n",
    "age_seriesSumprice = pd_df.groupby(Age_series)['Price'].sum()\n",
    "age_seriesSumprice = pd_df.groupby(Age_series)['Price'].sum()\n",
    "age_seriesSumpriceperson = pd_df.groupby(Age_series)['SN'].nunique()\n",
    "age_AvgTotalPriceperPerson = age_seriesSumprice/age_seriesSumpriceperson\n",
    "\n",
    "age_df = pd.DataFrame({\"Avg Price Age\":age_seriesAvgprice, \"Total Price Avg\": age_seriesSumprice, \"Unique Players\": age_seriesSumpriceperson, 'Avg Tot per Person':age_AvgTotalPriceperPerson  })\n",
    "age_df['Percent Player by Age group'] = age_df['Unique Players']/780*100\n",
    "\n",
    "\n",
    "age_df.style.format({'Avg Price Age':'${0:.2f}','Total Price Avg':'${0:.2f}',\"Avg Tot per Person\": '${0:.2f}',\"Percent Player by Age group\": '%{0:.2f}'})\n"
   ]
  },
  {
   "cell_type": "markdown",
   "metadata": {},
   "source": [
    "## Purchasing Analysis (Age)"
   ]
  },
  {
   "cell_type": "markdown",
   "metadata": {},
   "source": [
    "* Bin the purchase_data data frame by age\n",
    "\n",
    "\n",
    "* Run basic calculations to obtain purchase count, avg. purchase price, avg. purchase total per person etc. in the table below\n",
    "\n",
    "\n",
    "* Create a summary data frame to hold the results\n",
    "\n",
    "\n",
    "* Optional: give the displayed data cleaner formatting\n",
    "\n",
    "\n",
    "* Display the summary data frame"
   ]
  },
  {
   "cell_type": "code",
   "execution_count": 67,
   "metadata": {},
   "outputs": [
    {
     "data": {
      "text/html": [
       "<style  type=\"text/css\" >\n",
       "</style><table id=\"T_24dd0994_1ea3_11ea_b7e5_50eb7123bf44\" ><thead>    <tr>        <th class=\"blank level0\" ></th>        <th class=\"col_heading level0 col0\" >Avg Price Age</th>        <th class=\"col_heading level0 col1\" >Total Price Avg</th>        <th class=\"col_heading level0 col2\" >Unique Players</th>        <th class=\"col_heading level0 col3\" >Avg Tot per Person</th>        <th class=\"col_heading level0 col4\" >Percent Player by Age group</th>    </tr>    <tr>        <th class=\"index_name level0\" >Age</th>        <th class=\"blank\" ></th>        <th class=\"blank\" ></th>        <th class=\"blank\" ></th>        <th class=\"blank\" ></th>        <th class=\"blank\" ></th>    </tr></thead><tbody>\n",
       "                <tr>\n",
       "                        <th id=\"T_24dd0994_1ea3_11ea_b7e5_50eb7123bf44level0_row0\" class=\"row_heading level0 row0\" >(0, 10]</th>\n",
       "                        <td id=\"T_24dd0994_1ea3_11ea_b7e5_50eb7123bf44row0_col0\" class=\"data row0 col0\" >$3.40</td>\n",
       "                        <td id=\"T_24dd0994_1ea3_11ea_b7e5_50eb7123bf44row0_col1\" class=\"data row0 col1\" >$108.96</td>\n",
       "                        <td id=\"T_24dd0994_1ea3_11ea_b7e5_50eb7123bf44row0_col2\" class=\"data row0 col2\" >24</td>\n",
       "                        <td id=\"T_24dd0994_1ea3_11ea_b7e5_50eb7123bf44row0_col3\" class=\"data row0 col3\" >$4.54</td>\n",
       "                        <td id=\"T_24dd0994_1ea3_11ea_b7e5_50eb7123bf44row0_col4\" class=\"data row0 col4\" >%3.08</td>\n",
       "            </tr>\n",
       "            <tr>\n",
       "                        <th id=\"T_24dd0994_1ea3_11ea_b7e5_50eb7123bf44level0_row1\" class=\"row_heading level0 row1\" >(10, 20]</th>\n",
       "                        <td id=\"T_24dd0994_1ea3_11ea_b7e5_50eb7123bf44row1_col0\" class=\"data row1 col0\" >$3.06</td>\n",
       "                        <td id=\"T_24dd0994_1ea3_11ea_b7e5_50eb7123bf44row1_col1\" class=\"data row1 col1\" >$778.16</td>\n",
       "                        <td id=\"T_24dd0994_1ea3_11ea_b7e5_50eb7123bf44row1_col2\" class=\"data row1 col2\" >191</td>\n",
       "                        <td id=\"T_24dd0994_1ea3_11ea_b7e5_50eb7123bf44row1_col3\" class=\"data row1 col3\" >$4.07</td>\n",
       "                        <td id=\"T_24dd0994_1ea3_11ea_b7e5_50eb7123bf44row1_col4\" class=\"data row1 col4\" >%24.49</td>\n",
       "            </tr>\n",
       "            <tr>\n",
       "                        <th id=\"T_24dd0994_1ea3_11ea_b7e5_50eb7123bf44level0_row2\" class=\"row_heading level0 row2\" >(20, 30]</th>\n",
       "                        <td id=\"T_24dd0994_1ea3_11ea_b7e5_50eb7123bf44row2_col0\" class=\"data row2 col0\" >$2.99</td>\n",
       "                        <td id=\"T_24dd0994_1ea3_11ea_b7e5_50eb7123bf44row2_col1\" class=\"data row2 col1\" >$1203.06</td>\n",
       "                        <td id=\"T_24dd0994_1ea3_11ea_b7e5_50eb7123bf44row2_col2\" class=\"data row2 col2\" >291</td>\n",
       "                        <td id=\"T_24dd0994_1ea3_11ea_b7e5_50eb7123bf44row2_col3\" class=\"data row2 col3\" >$4.13</td>\n",
       "                        <td id=\"T_24dd0994_1ea3_11ea_b7e5_50eb7123bf44row2_col4\" class=\"data row2 col4\" >%37.31</td>\n",
       "            </tr>\n",
       "            <tr>\n",
       "                        <th id=\"T_24dd0994_1ea3_11ea_b7e5_50eb7123bf44level0_row3\" class=\"row_heading level0 row3\" >(30, 40]</th>\n",
       "                        <td id=\"T_24dd0994_1ea3_11ea_b7e5_50eb7123bf44row3_col0\" class=\"data row3 col0\" >$3.15</td>\n",
       "                        <td id=\"T_24dd0994_1ea3_11ea_b7e5_50eb7123bf44row3_col1\" class=\"data row3 col1\" >$268.06</td>\n",
       "                        <td id=\"T_24dd0994_1ea3_11ea_b7e5_50eb7123bf44row3_col2\" class=\"data row3 col2\" >63</td>\n",
       "                        <td id=\"T_24dd0994_1ea3_11ea_b7e5_50eb7123bf44row3_col3\" class=\"data row3 col3\" >$4.25</td>\n",
       "                        <td id=\"T_24dd0994_1ea3_11ea_b7e5_50eb7123bf44row3_col4\" class=\"data row3 col4\" >%8.08</td>\n",
       "            </tr>\n",
       "            <tr>\n",
       "                        <th id=\"T_24dd0994_1ea3_11ea_b7e5_50eb7123bf44level0_row4\" class=\"row_heading level0 row4\" >(40, 50]</th>\n",
       "                        <td id=\"T_24dd0994_1ea3_11ea_b7e5_50eb7123bf44row4_col0\" class=\"data row4 col0\" >$3.08</td>\n",
       "                        <td id=\"T_24dd0994_1ea3_11ea_b7e5_50eb7123bf44row4_col1\" class=\"data row4 col1\" >$21.53</td>\n",
       "                        <td id=\"T_24dd0994_1ea3_11ea_b7e5_50eb7123bf44row4_col2\" class=\"data row4 col2\" >7</td>\n",
       "                        <td id=\"T_24dd0994_1ea3_11ea_b7e5_50eb7123bf44row4_col3\" class=\"data row4 col3\" >$3.08</td>\n",
       "                        <td id=\"T_24dd0994_1ea3_11ea_b7e5_50eb7123bf44row4_col4\" class=\"data row4 col4\" >%0.90</td>\n",
       "            </tr>\n",
       "    </tbody></table>"
      ],
      "text/plain": [
       "<pandas.io.formats.style.Styler at 0x28a04f65848>"
      ]
     },
     "execution_count": 67,
     "metadata": {},
     "output_type": "execute_result"
    }
   ],
   "source": [
    "age_df.style.format({'Avg Price Age':'${0:.2f}','Total Price Avg':'${0:.2f}',\"Avg Tot per Person\": '${0:.2f}',\"Percent Player by Age group\": '%{0:.2f}'})"
   ]
  },
  {
   "cell_type": "markdown",
   "metadata": {},
   "source": [
    "## Top Spenders"
   ]
  },
  {
   "cell_type": "markdown",
   "metadata": {},
   "source": [
    "* Run basic calculations to obtain the results in the table below\n",
    "\n",
    "\n",
    "* Create a summary data frame to hold the results\n",
    "\n",
    "\n",
    "* Sort the total purchase value column in descending order\n",
    "\n",
    "\n",
    "* Optional: give the displayed data cleaner formatting\n",
    "\n",
    "\n",
    "* Display a preview of the summary data frame\n",
    "\n"
   ]
  },
  {
   "cell_type": "code",
   "execution_count": 77,
   "metadata": {},
   "outputs": [
    {
     "data": {
      "text/html": [
       "<style  type=\"text/css\" >\n",
       "</style><table id=\"T_fcb19ec2_1ea3_11ea_b71c_50eb7123bf44\" ><thead>    <tr>        <th class=\"blank level0\" ></th>        <th class=\"col_heading level0 col0\" >Top_Purchaser</th>        <th class=\"col_heading level0 col1\" >Avgprice_SN</th>        <th class=\"col_heading level0 col2\" >Sumprice_SN</th>    </tr>    <tr>        <th class=\"index_name level0\" >SN</th>        <th class=\"blank\" ></th>        <th class=\"blank\" ></th>        <th class=\"blank\" ></th>    </tr></thead><tbody>\n",
       "                <tr>\n",
       "                        <th id=\"T_fcb19ec2_1ea3_11ea_b71c_50eb7123bf44level0_row0\" class=\"row_heading level0 row0\" >Lisosia93</th>\n",
       "                        <td id=\"T_fcb19ec2_1ea3_11ea_b71c_50eb7123bf44row0_col0\" class=\"data row0 col0\" >5</td>\n",
       "                        <td id=\"T_fcb19ec2_1ea3_11ea_b71c_50eb7123bf44row0_col1\" class=\"data row0 col1\" >$3.79</td>\n",
       "                        <td id=\"T_fcb19ec2_1ea3_11ea_b71c_50eb7123bf44row0_col2\" class=\"data row0 col2\" >$18.96</td>\n",
       "            </tr>\n",
       "            <tr>\n",
       "                        <th id=\"T_fcb19ec2_1ea3_11ea_b71c_50eb7123bf44level0_row1\" class=\"row_heading level0 row1\" >Idastidru52</th>\n",
       "                        <td id=\"T_fcb19ec2_1ea3_11ea_b71c_50eb7123bf44row1_col0\" class=\"data row1 col0\" >4</td>\n",
       "                        <td id=\"T_fcb19ec2_1ea3_11ea_b71c_50eb7123bf44row1_col1\" class=\"data row1 col1\" >$3.86</td>\n",
       "                        <td id=\"T_fcb19ec2_1ea3_11ea_b71c_50eb7123bf44row1_col2\" class=\"data row1 col2\" >$15.45</td>\n",
       "            </tr>\n",
       "            <tr>\n",
       "                        <th id=\"T_fcb19ec2_1ea3_11ea_b71c_50eb7123bf44level0_row2\" class=\"row_heading level0 row2\" >Iral74</th>\n",
       "                        <td id=\"T_fcb19ec2_1ea3_11ea_b71c_50eb7123bf44row2_col0\" class=\"data row2 col0\" >4</td>\n",
       "                        <td id=\"T_fcb19ec2_1ea3_11ea_b71c_50eb7123bf44row2_col1\" class=\"data row2 col1\" >$3.40</td>\n",
       "                        <td id=\"T_fcb19ec2_1ea3_11ea_b71c_50eb7123bf44row2_col2\" class=\"data row2 col2\" >$13.62</td>\n",
       "            </tr>\n",
       "            <tr>\n",
       "                        <th id=\"T_fcb19ec2_1ea3_11ea_b71c_50eb7123bf44level0_row3\" class=\"row_heading level0 row3\" >Chamjask73</th>\n",
       "                        <td id=\"T_fcb19ec2_1ea3_11ea_b71c_50eb7123bf44row3_col0\" class=\"data row3 col0\" >3</td>\n",
       "                        <td id=\"T_fcb19ec2_1ea3_11ea_b71c_50eb7123bf44row3_col1\" class=\"data row3 col1\" >$4.61</td>\n",
       "                        <td id=\"T_fcb19ec2_1ea3_11ea_b71c_50eb7123bf44row3_col2\" class=\"data row3 col2\" >$13.83</td>\n",
       "            </tr>\n",
       "            <tr>\n",
       "                        <th id=\"T_fcb19ec2_1ea3_11ea_b71c_50eb7123bf44level0_row4\" class=\"row_heading level0 row4\" >Iskadarya95</th>\n",
       "                        <td id=\"T_fcb19ec2_1ea3_11ea_b71c_50eb7123bf44row4_col0\" class=\"data row4 col0\" >3</td>\n",
       "                        <td id=\"T_fcb19ec2_1ea3_11ea_b71c_50eb7123bf44row4_col1\" class=\"data row4 col1\" >$4.37</td>\n",
       "                        <td id=\"T_fcb19ec2_1ea3_11ea_b71c_50eb7123bf44row4_col2\" class=\"data row4 col2\" >$13.10</td>\n",
       "            </tr>\n",
       "            <tr>\n",
       "                        <th id=\"T_fcb19ec2_1ea3_11ea_b71c_50eb7123bf44level0_row5\" class=\"row_heading level0 row5\" >Ilarin91</th>\n",
       "                        <td id=\"T_fcb19ec2_1ea3_11ea_b71c_50eb7123bf44row5_col0\" class=\"data row5 col0\" >3</td>\n",
       "                        <td id=\"T_fcb19ec2_1ea3_11ea_b71c_50eb7123bf44row5_col1\" class=\"data row5 col1\" >$4.23</td>\n",
       "                        <td id=\"T_fcb19ec2_1ea3_11ea_b71c_50eb7123bf44row5_col2\" class=\"data row5 col2\" >$12.70</td>\n",
       "            </tr>\n",
       "            <tr>\n",
       "                        <th id=\"T_fcb19ec2_1ea3_11ea_b71c_50eb7123bf44level0_row6\" class=\"row_heading level0 row6\" >Ialallo29</th>\n",
       "                        <td id=\"T_fcb19ec2_1ea3_11ea_b71c_50eb7123bf44row6_col0\" class=\"data row6 col0\" >3</td>\n",
       "                        <td id=\"T_fcb19ec2_1ea3_11ea_b71c_50eb7123bf44row6_col1\" class=\"data row6 col1\" >$3.95</td>\n",
       "                        <td id=\"T_fcb19ec2_1ea3_11ea_b71c_50eb7123bf44row6_col2\" class=\"data row6 col2\" >$11.84</td>\n",
       "            </tr>\n",
       "            <tr>\n",
       "                        <th id=\"T_fcb19ec2_1ea3_11ea_b71c_50eb7123bf44level0_row7\" class=\"row_heading level0 row7\" >Tyidaim51</th>\n",
       "                        <td id=\"T_fcb19ec2_1ea3_11ea_b71c_50eb7123bf44row7_col0\" class=\"data row7 col0\" >3</td>\n",
       "                        <td id=\"T_fcb19ec2_1ea3_11ea_b71c_50eb7123bf44row7_col1\" class=\"data row7 col1\" >$3.94</td>\n",
       "                        <td id=\"T_fcb19ec2_1ea3_11ea_b71c_50eb7123bf44row7_col2\" class=\"data row7 col2\" >$11.83</td>\n",
       "            </tr>\n",
       "            <tr>\n",
       "                        <th id=\"T_fcb19ec2_1ea3_11ea_b71c_50eb7123bf44level0_row8\" class=\"row_heading level0 row8\" >Lassilsala30</th>\n",
       "                        <td id=\"T_fcb19ec2_1ea3_11ea_b71c_50eb7123bf44row8_col0\" class=\"data row8 col0\" >3</td>\n",
       "                        <td id=\"T_fcb19ec2_1ea3_11ea_b71c_50eb7123bf44row8_col1\" class=\"data row8 col1\" >$3.84</td>\n",
       "                        <td id=\"T_fcb19ec2_1ea3_11ea_b71c_50eb7123bf44row8_col2\" class=\"data row8 col2\" >$11.51</td>\n",
       "            </tr>\n",
       "            <tr>\n",
       "                        <th id=\"T_fcb19ec2_1ea3_11ea_b71c_50eb7123bf44level0_row9\" class=\"row_heading level0 row9\" >Chadolyla44</th>\n",
       "                        <td id=\"T_fcb19ec2_1ea3_11ea_b71c_50eb7123bf44row9_col0\" class=\"data row9 col0\" >3</td>\n",
       "                        <td id=\"T_fcb19ec2_1ea3_11ea_b71c_50eb7123bf44row9_col1\" class=\"data row9 col1\" >$3.82</td>\n",
       "                        <td id=\"T_fcb19ec2_1ea3_11ea_b71c_50eb7123bf44row9_col2\" class=\"data row9 col2\" >$11.46</td>\n",
       "            </tr>\n",
       "            <tr>\n",
       "                        <th id=\"T_fcb19ec2_1ea3_11ea_b71c_50eb7123bf44level0_row10\" class=\"row_heading level0 row10\" >Iri67</th>\n",
       "                        <td id=\"T_fcb19ec2_1ea3_11ea_b71c_50eb7123bf44row10_col0\" class=\"data row10 col0\" >3</td>\n",
       "                        <td id=\"T_fcb19ec2_1ea3_11ea_b71c_50eb7123bf44row10_col1\" class=\"data row10 col1\" >$3.79</td>\n",
       "                        <td id=\"T_fcb19ec2_1ea3_11ea_b71c_50eb7123bf44row10_col2\" class=\"data row10 col2\" >$11.37</td>\n",
       "            </tr>\n",
       "            <tr>\n",
       "                        <th id=\"T_fcb19ec2_1ea3_11ea_b71c_50eb7123bf44level0_row11\" class=\"row_heading level0 row11\" >Inguron55</th>\n",
       "                        <td id=\"T_fcb19ec2_1ea3_11ea_b71c_50eb7123bf44row11_col0\" class=\"data row11 col0\" >3</td>\n",
       "                        <td id=\"T_fcb19ec2_1ea3_11ea_b71c_50eb7123bf44row11_col1\" class=\"data row11 col1\" >$3.70</td>\n",
       "                        <td id=\"T_fcb19ec2_1ea3_11ea_b71c_50eb7123bf44row11_col2\" class=\"data row11 col2\" >$11.11</td>\n",
       "            </tr>\n",
       "            <tr>\n",
       "                        <th id=\"T_fcb19ec2_1ea3_11ea_b71c_50eb7123bf44level0_row12\" class=\"row_heading level0 row12\" >Siallylis44</th>\n",
       "                        <td id=\"T_fcb19ec2_1ea3_11ea_b71c_50eb7123bf44row12_col0\" class=\"data row12 col0\" >3</td>\n",
       "                        <td id=\"T_fcb19ec2_1ea3_11ea_b71c_50eb7123bf44row12_col1\" class=\"data row12 col1\" >$3.46</td>\n",
       "                        <td id=\"T_fcb19ec2_1ea3_11ea_b71c_50eb7123bf44row12_col2\" class=\"data row12 col2\" >$10.37</td>\n",
       "            </tr>\n",
       "            <tr>\n",
       "                        <th id=\"T_fcb19ec2_1ea3_11ea_b71c_50eb7123bf44level0_row13\" class=\"row_heading level0 row13\" >Saistyphos30</th>\n",
       "                        <td id=\"T_fcb19ec2_1ea3_11ea_b71c_50eb7123bf44row13_col0\" class=\"data row13 col0\" >3</td>\n",
       "                        <td id=\"T_fcb19ec2_1ea3_11ea_b71c_50eb7123bf44row13_col1\" class=\"data row13 col1\" >$3.44</td>\n",
       "                        <td id=\"T_fcb19ec2_1ea3_11ea_b71c_50eb7123bf44row13_col2\" class=\"data row13 col2\" >$10.33</td>\n",
       "            </tr>\n",
       "            <tr>\n",
       "                        <th id=\"T_fcb19ec2_1ea3_11ea_b71c_50eb7123bf44level0_row14\" class=\"row_heading level0 row14\" >Phyali88</th>\n",
       "                        <td id=\"T_fcb19ec2_1ea3_11ea_b71c_50eb7123bf44row14_col0\" class=\"data row14 col0\" >3</td>\n",
       "                        <td id=\"T_fcb19ec2_1ea3_11ea_b71c_50eb7123bf44row14_col1\" class=\"data row14 col1\" >$3.43</td>\n",
       "                        <td id=\"T_fcb19ec2_1ea3_11ea_b71c_50eb7123bf44row14_col2\" class=\"data row14 col2\" >$10.30</td>\n",
       "            </tr>\n",
       "            <tr>\n",
       "                        <th id=\"T_fcb19ec2_1ea3_11ea_b71c_50eb7123bf44level0_row15\" class=\"row_heading level0 row15\" >Strithenu87</th>\n",
       "                        <td id=\"T_fcb19ec2_1ea3_11ea_b71c_50eb7123bf44row15_col0\" class=\"data row15 col0\" >3</td>\n",
       "                        <td id=\"T_fcb19ec2_1ea3_11ea_b71c_50eb7123bf44row15_col1\" class=\"data row15 col1\" >$3.39</td>\n",
       "                        <td id=\"T_fcb19ec2_1ea3_11ea_b71c_50eb7123bf44row15_col2\" class=\"data row15 col2\" >$10.18</td>\n",
       "            </tr>\n",
       "            <tr>\n",
       "                        <th id=\"T_fcb19ec2_1ea3_11ea_b71c_50eb7123bf44level0_row16\" class=\"row_heading level0 row16\" >Lisim78</th>\n",
       "                        <td id=\"T_fcb19ec2_1ea3_11ea_b71c_50eb7123bf44row16_col0\" class=\"data row16 col0\" >3</td>\n",
       "                        <td id=\"T_fcb19ec2_1ea3_11ea_b71c_50eb7123bf44row16_col1\" class=\"data row16 col1\" >$3.34</td>\n",
       "                        <td id=\"T_fcb19ec2_1ea3_11ea_b71c_50eb7123bf44row16_col2\" class=\"data row16 col2\" >$10.02</td>\n",
       "            </tr>\n",
       "            <tr>\n",
       "                        <th id=\"T_fcb19ec2_1ea3_11ea_b71c_50eb7123bf44level0_row17\" class=\"row_heading level0 row17\" >Haillyrgue51</th>\n",
       "                        <td id=\"T_fcb19ec2_1ea3_11ea_b71c_50eb7123bf44row17_col0\" class=\"data row17 col0\" >3</td>\n",
       "                        <td id=\"T_fcb19ec2_1ea3_11ea_b71c_50eb7123bf44row17_col1\" class=\"data row17 col1\" >$3.17</td>\n",
       "                        <td id=\"T_fcb19ec2_1ea3_11ea_b71c_50eb7123bf44row17_col2\" class=\"data row17 col2\" >$9.50</td>\n",
       "            </tr>\n",
       "            <tr>\n",
       "                        <th id=\"T_fcb19ec2_1ea3_11ea_b71c_50eb7123bf44level0_row18\" class=\"row_heading level0 row18\" >Aina42</th>\n",
       "                        <td id=\"T_fcb19ec2_1ea3_11ea_b71c_50eb7123bf44row18_col0\" class=\"data row18 col0\" >3</td>\n",
       "                        <td id=\"T_fcb19ec2_1ea3_11ea_b71c_50eb7123bf44row18_col1\" class=\"data row18 col1\" >$3.07</td>\n",
       "                        <td id=\"T_fcb19ec2_1ea3_11ea_b71c_50eb7123bf44row18_col2\" class=\"data row18 col2\" >$9.22</td>\n",
       "            </tr>\n",
       "            <tr>\n",
       "                        <th id=\"T_fcb19ec2_1ea3_11ea_b71c_50eb7123bf44level0_row19\" class=\"row_heading level0 row19\" >Rarallo90</th>\n",
       "                        <td id=\"T_fcb19ec2_1ea3_11ea_b71c_50eb7123bf44row19_col0\" class=\"data row19 col0\" >3</td>\n",
       "                        <td id=\"T_fcb19ec2_1ea3_11ea_b71c_50eb7123bf44row19_col1\" class=\"data row19 col1\" >$3.02</td>\n",
       "                        <td id=\"T_fcb19ec2_1ea3_11ea_b71c_50eb7123bf44row19_col2\" class=\"data row19 col2\" >$9.05</td>\n",
       "            </tr>\n",
       "            <tr>\n",
       "                        <th id=\"T_fcb19ec2_1ea3_11ea_b71c_50eb7123bf44level0_row20\" class=\"row_heading level0 row20\" >Aelin32</th>\n",
       "                        <td id=\"T_fcb19ec2_1ea3_11ea_b71c_50eb7123bf44row20_col0\" class=\"data row20 col0\" >3</td>\n",
       "                        <td id=\"T_fcb19ec2_1ea3_11ea_b71c_50eb7123bf44row20_col1\" class=\"data row20 col1\" >$2.99</td>\n",
       "                        <td id=\"T_fcb19ec2_1ea3_11ea_b71c_50eb7123bf44row20_col2\" class=\"data row20 col2\" >$8.98</td>\n",
       "            </tr>\n",
       "            <tr>\n",
       "                        <th id=\"T_fcb19ec2_1ea3_11ea_b71c_50eb7123bf44level0_row21\" class=\"row_heading level0 row21\" >Lisopela58</th>\n",
       "                        <td id=\"T_fcb19ec2_1ea3_11ea_b71c_50eb7123bf44row21_col0\" class=\"data row21 col0\" >3</td>\n",
       "                        <td id=\"T_fcb19ec2_1ea3_11ea_b71c_50eb7123bf44row21_col1\" class=\"data row21 col1\" >$2.95</td>\n",
       "                        <td id=\"T_fcb19ec2_1ea3_11ea_b71c_50eb7123bf44row21_col2\" class=\"data row21 col2\" >$8.86</td>\n",
       "            </tr>\n",
       "            <tr>\n",
       "                        <th id=\"T_fcb19ec2_1ea3_11ea_b71c_50eb7123bf44level0_row22\" class=\"row_heading level0 row22\" >Saedaiphos46</th>\n",
       "                        <td id=\"T_fcb19ec2_1ea3_11ea_b71c_50eb7123bf44row22_col0\" class=\"data row22 col0\" >3</td>\n",
       "                        <td id=\"T_fcb19ec2_1ea3_11ea_b71c_50eb7123bf44row22_col1\" class=\"data row22 col1\" >$2.94</td>\n",
       "                        <td id=\"T_fcb19ec2_1ea3_11ea_b71c_50eb7123bf44row22_col2\" class=\"data row22 col2\" >$8.83</td>\n",
       "            </tr>\n",
       "            <tr>\n",
       "                        <th id=\"T_fcb19ec2_1ea3_11ea_b71c_50eb7123bf44level0_row23\" class=\"row_heading level0 row23\" >Chanastnya43</th>\n",
       "                        <td id=\"T_fcb19ec2_1ea3_11ea_b71c_50eb7123bf44row23_col0\" class=\"data row23 col0\" >3</td>\n",
       "                        <td id=\"T_fcb19ec2_1ea3_11ea_b71c_50eb7123bf44row23_col1\" class=\"data row23 col1\" >$2.94</td>\n",
       "                        <td id=\"T_fcb19ec2_1ea3_11ea_b71c_50eb7123bf44row23_col2\" class=\"data row23 col2\" >$8.82</td>\n",
       "            </tr>\n",
       "            <tr>\n",
       "                        <th id=\"T_fcb19ec2_1ea3_11ea_b71c_50eb7123bf44level0_row24\" class=\"row_heading level0 row24\" >Raesty92</th>\n",
       "                        <td id=\"T_fcb19ec2_1ea3_11ea_b71c_50eb7123bf44row24_col0\" class=\"data row24 col0\" >3</td>\n",
       "                        <td id=\"T_fcb19ec2_1ea3_11ea_b71c_50eb7123bf44row24_col1\" class=\"data row24 col1\" >$2.91</td>\n",
       "                        <td id=\"T_fcb19ec2_1ea3_11ea_b71c_50eb7123bf44row24_col2\" class=\"data row24 col2\" >$8.73</td>\n",
       "            </tr>\n",
       "            <tr>\n",
       "                        <th id=\"T_fcb19ec2_1ea3_11ea_b71c_50eb7123bf44level0_row25\" class=\"row_heading level0 row25\" >Hada39</th>\n",
       "                        <td id=\"T_fcb19ec2_1ea3_11ea_b71c_50eb7123bf44row25_col0\" class=\"data row25 col0\" >3</td>\n",
       "                        <td id=\"T_fcb19ec2_1ea3_11ea_b71c_50eb7123bf44row25_col1\" class=\"data row25 col1\" >$2.86</td>\n",
       "                        <td id=\"T_fcb19ec2_1ea3_11ea_b71c_50eb7123bf44row25_col2\" class=\"data row25 col2\" >$8.57</td>\n",
       "            </tr>\n",
       "            <tr>\n",
       "                        <th id=\"T_fcb19ec2_1ea3_11ea_b71c_50eb7123bf44level0_row26\" class=\"row_heading level0 row26\" >Silaera56</th>\n",
       "                        <td id=\"T_fcb19ec2_1ea3_11ea_b71c_50eb7123bf44row26_col0\" class=\"data row26 col0\" >3</td>\n",
       "                        <td id=\"T_fcb19ec2_1ea3_11ea_b71c_50eb7123bf44row26_col1\" class=\"data row26 col1\" >$2.83</td>\n",
       "                        <td id=\"T_fcb19ec2_1ea3_11ea_b71c_50eb7123bf44row26_col2\" class=\"data row26 col2\" >$8.48</td>\n",
       "            </tr>\n",
       "            <tr>\n",
       "                        <th id=\"T_fcb19ec2_1ea3_11ea_b71c_50eb7123bf44level0_row27\" class=\"row_heading level0 row27\" >Pheodaisun84</th>\n",
       "                        <td id=\"T_fcb19ec2_1ea3_11ea_b71c_50eb7123bf44row27_col0\" class=\"data row27 col0\" >3</td>\n",
       "                        <td id=\"T_fcb19ec2_1ea3_11ea_b71c_50eb7123bf44row27_col1\" class=\"data row27 col1\" >$2.77</td>\n",
       "                        <td id=\"T_fcb19ec2_1ea3_11ea_b71c_50eb7123bf44row27_col2\" class=\"data row27 col2\" >$8.31</td>\n",
       "            </tr>\n",
       "            <tr>\n",
       "                        <th id=\"T_fcb19ec2_1ea3_11ea_b71c_50eb7123bf44level0_row28\" class=\"row_heading level0 row28\" >Idai61</th>\n",
       "                        <td id=\"T_fcb19ec2_1ea3_11ea_b71c_50eb7123bf44row28_col0\" class=\"data row28 col0\" >3</td>\n",
       "                        <td id=\"T_fcb19ec2_1ea3_11ea_b71c_50eb7123bf44row28_col1\" class=\"data row28 col1\" >$2.74</td>\n",
       "                        <td id=\"T_fcb19ec2_1ea3_11ea_b71c_50eb7123bf44row28_col2\" class=\"data row28 col2\" >$8.23</td>\n",
       "            </tr>\n",
       "            <tr>\n",
       "                        <th id=\"T_fcb19ec2_1ea3_11ea_b71c_50eb7123bf44level0_row29\" class=\"row_heading level0 row29\" >Umolrian85</th>\n",
       "                        <td id=\"T_fcb19ec2_1ea3_11ea_b71c_50eb7123bf44row29_col0\" class=\"data row29 col0\" >3</td>\n",
       "                        <td id=\"T_fcb19ec2_1ea3_11ea_b71c_50eb7123bf44row29_col1\" class=\"data row29 col1\" >$2.71</td>\n",
       "                        <td id=\"T_fcb19ec2_1ea3_11ea_b71c_50eb7123bf44row29_col2\" class=\"data row29 col2\" >$8.13</td>\n",
       "            </tr>\n",
       "            <tr>\n",
       "                        <th id=\"T_fcb19ec2_1ea3_11ea_b71c_50eb7123bf44level0_row30\" class=\"row_heading level0 row30\" >Zontibe81</th>\n",
       "                        <td id=\"T_fcb19ec2_1ea3_11ea_b71c_50eb7123bf44row30_col0\" class=\"data row30 col0\" >3</td>\n",
       "                        <td id=\"T_fcb19ec2_1ea3_11ea_b71c_50eb7123bf44row30_col1\" class=\"data row30 col1\" >$2.68</td>\n",
       "                        <td id=\"T_fcb19ec2_1ea3_11ea_b71c_50eb7123bf44row30_col2\" class=\"data row30 col2\" >$8.03</td>\n",
       "            </tr>\n",
       "            <tr>\n",
       "                        <th id=\"T_fcb19ec2_1ea3_11ea_b71c_50eb7123bf44level0_row31\" class=\"row_heading level0 row31\" >Sondastsda82</th>\n",
       "                        <td id=\"T_fcb19ec2_1ea3_11ea_b71c_50eb7123bf44row31_col0\" class=\"data row31 col0\" >3</td>\n",
       "                        <td id=\"T_fcb19ec2_1ea3_11ea_b71c_50eb7123bf44row31_col1\" class=\"data row31 col1\" >$2.63</td>\n",
       "                        <td id=\"T_fcb19ec2_1ea3_11ea_b71c_50eb7123bf44row31_col2\" class=\"data row31 col2\" >$7.89</td>\n",
       "            </tr>\n",
       "            <tr>\n",
       "                        <th id=\"T_fcb19ec2_1ea3_11ea_b71c_50eb7123bf44level0_row32\" class=\"row_heading level0 row32\" >Asur53</th>\n",
       "                        <td id=\"T_fcb19ec2_1ea3_11ea_b71c_50eb7123bf44row32_col0\" class=\"data row32 col0\" >3</td>\n",
       "                        <td id=\"T_fcb19ec2_1ea3_11ea_b71c_50eb7123bf44row32_col1\" class=\"data row32 col1\" >$2.48</td>\n",
       "                        <td id=\"T_fcb19ec2_1ea3_11ea_b71c_50eb7123bf44row32_col2\" class=\"data row32 col2\" >$7.44</td>\n",
       "            </tr>\n",
       "            <tr>\n",
       "                        <th id=\"T_fcb19ec2_1ea3_11ea_b71c_50eb7123bf44level0_row33\" class=\"row_heading level0 row33\" >Chamimla85</th>\n",
       "                        <td id=\"T_fcb19ec2_1ea3_11ea_b71c_50eb7123bf44row33_col0\" class=\"data row33 col0\" >3</td>\n",
       "                        <td id=\"T_fcb19ec2_1ea3_11ea_b71c_50eb7123bf44row33_col1\" class=\"data row33 col1\" >$2.10</td>\n",
       "                        <td id=\"T_fcb19ec2_1ea3_11ea_b71c_50eb7123bf44row33_col2\" class=\"data row33 col2\" >$6.30</td>\n",
       "            </tr>\n",
       "            <tr>\n",
       "                        <th id=\"T_fcb19ec2_1ea3_11ea_b71c_50eb7123bf44level0_row34\" class=\"row_heading level0 row34\" >Yathecal82</th>\n",
       "                        <td id=\"T_fcb19ec2_1ea3_11ea_b71c_50eb7123bf44row34_col0\" class=\"data row34 col0\" >3</td>\n",
       "                        <td id=\"T_fcb19ec2_1ea3_11ea_b71c_50eb7123bf44row34_col1\" class=\"data row34 col1\" >$2.07</td>\n",
       "                        <td id=\"T_fcb19ec2_1ea3_11ea_b71c_50eb7123bf44row34_col2\" class=\"data row34 col2\" >$6.22</td>\n",
       "            </tr>\n",
       "            <tr>\n",
       "                        <th id=\"T_fcb19ec2_1ea3_11ea_b71c_50eb7123bf44level0_row35\" class=\"row_heading level0 row35\" >Phaena87</th>\n",
       "                        <td id=\"T_fcb19ec2_1ea3_11ea_b71c_50eb7123bf44row35_col0\" class=\"data row35 col0\" >3</td>\n",
       "                        <td id=\"T_fcb19ec2_1ea3_11ea_b71c_50eb7123bf44row35_col1\" class=\"data row35 col1\" >$1.83</td>\n",
       "                        <td id=\"T_fcb19ec2_1ea3_11ea_b71c_50eb7123bf44row35_col2\" class=\"data row35 col2\" >$5.49</td>\n",
       "            </tr>\n",
       "            <tr>\n",
       "                        <th id=\"T_fcb19ec2_1ea3_11ea_b71c_50eb7123bf44level0_row36\" class=\"row_heading level0 row36\" >Tyisur83</th>\n",
       "                        <td id=\"T_fcb19ec2_1ea3_11ea_b71c_50eb7123bf44row36_col0\" class=\"data row36 col0\" >3</td>\n",
       "                        <td id=\"T_fcb19ec2_1ea3_11ea_b71c_50eb7123bf44row36_col1\" class=\"data row36 col1\" >$1.79</td>\n",
       "                        <td id=\"T_fcb19ec2_1ea3_11ea_b71c_50eb7123bf44row36_col2\" class=\"data row36 col2\" >$5.36</td>\n",
       "            </tr>\n",
       "            <tr>\n",
       "                        <th id=\"T_fcb19ec2_1ea3_11ea_b71c_50eb7123bf44level0_row37\" class=\"row_heading level0 row37\" >Hiaral50</th>\n",
       "                        <td id=\"T_fcb19ec2_1ea3_11ea_b71c_50eb7123bf44row37_col0\" class=\"data row37 col0\" >3</td>\n",
       "                        <td id=\"T_fcb19ec2_1ea3_11ea_b71c_50eb7123bf44row37_col1\" class=\"data row37 col1\" >$1.40</td>\n",
       "                        <td id=\"T_fcb19ec2_1ea3_11ea_b71c_50eb7123bf44row37_col2\" class=\"data row37 col2\" >$4.19</td>\n",
       "            </tr>\n",
       "    </tbody></table>"
      ],
      "text/plain": [
       "<pandas.io.formats.style.Styler at 0x28a04f7e0c8>"
      ]
     },
     "execution_count": 77,
     "metadata": {},
     "output_type": "execute_result"
    }
   ],
   "source": [
    "\n",
    "Top_Purchaser = pd_df.groupby('SN')['Purchase ID'].count()\n",
    "Avgprice_SN = pd_df.groupby('SN')['Price'].mean()\n",
    "Sumprice_SN = pd_df.groupby('SN')['Price'].sum()\n",
    "\n",
    "Top_Purchaser=pd.DataFrame({'Top_Purchaser': Top_Purchaser, 'Avgprice_SN': Avgprice_SN, 'Sumprice_SN': Sumprice_SN})\n",
    "Top_Purchaser\n",
    "top_spenders = Top_Purchaser.loc[Top_Purchaser[\"Top_Purchaser\"] > 2]\n",
    "sorted_top_spenders = top_spenders.sort_values(by=[\"Top_Purchaser\",\"Avgprice_SN\",'Sumprice_SN'], ascending = [False,False,False])\n",
    "sorted_top_spenders.style.format({'Avgprice_SN':'${0:.2f}','Sumprice_SN':'${0:.2f}'})\n",
    "\n"
   ]
  },
  {
   "cell_type": "markdown",
   "metadata": {},
   "source": [
    "## Most Popular Items"
   ]
  },
  {
   "cell_type": "markdown",
   "metadata": {},
   "source": [
    "* Retrieve the Item ID, Item Name, and Item Price columns\n",
    "\n",
    "\n",
    "* Group by Item ID and Item Name. Perform calculations to obtain purchase count, item price, and total purchase value\n",
    "\n",
    "\n",
    "* Create a summary data frame to hold the results\n",
    "\n",
    "\n",
    "* Sort the purchase count column in descending order\n",
    "\n",
    "\n",
    "* Optional: give the displayed data cleaner formatting\n",
    "\n",
    "\n",
    "* Display a preview of the summary data frame\n",
    "\n"
   ]
  },
  {
   "cell_type": "code",
   "execution_count": 13,
   "metadata": {},
   "outputs": [
    {
     "data": {
      "text/html": [
       "<div>\n",
       "<style scoped>\n",
       "    .dataframe tbody tr th:only-of-type {\n",
       "        vertical-align: middle;\n",
       "    }\n",
       "\n",
       "    .dataframe tbody tr th {\n",
       "        vertical-align: top;\n",
       "    }\n",
       "\n",
       "    .dataframe thead th {\n",
       "        text-align: right;\n",
       "    }\n",
       "</style>\n",
       "<table border=\"1\" class=\"dataframe\">\n",
       "  <thead>\n",
       "    <tr style=\"text-align: right;\">\n",
       "      <th></th>\n",
       "      <th>Item Name</th>\n",
       "      <th>Price</th>\n",
       "      <th>ID Count</th>\n",
       "      <th>Total Value</th>\n",
       "    </tr>\n",
       "    <tr>\n",
       "      <th>Item ID</th>\n",
       "      <th></th>\n",
       "      <th></th>\n",
       "      <th></th>\n",
       "      <th></th>\n",
       "    </tr>\n",
       "  </thead>\n",
       "  <tbody>\n",
       "    <tr>\n",
       "      <th>178</th>\n",
       "      <td>Oathbreaker, Last Hope of the Breaking Storm</td>\n",
       "      <td>4.23</td>\n",
       "      <td>12</td>\n",
       "      <td>50.76</td>\n",
       "    </tr>\n",
       "    <tr>\n",
       "      <th>82</th>\n",
       "      <td>Nirvana</td>\n",
       "      <td>4.90</td>\n",
       "      <td>9</td>\n",
       "      <td>44.10</td>\n",
       "    </tr>\n",
       "    <tr>\n",
       "      <th>145</th>\n",
       "      <td>Fiery Glass Crusader</td>\n",
       "      <td>4.58</td>\n",
       "      <td>9</td>\n",
       "      <td>41.22</td>\n",
       "    </tr>\n",
       "    <tr>\n",
       "      <th>108</th>\n",
       "      <td>Extraction, Quickblade Of Trembling Hands</td>\n",
       "      <td>3.53</td>\n",
       "      <td>9</td>\n",
       "      <td>31.77</td>\n",
       "    </tr>\n",
       "    <tr>\n",
       "      <th>92</th>\n",
       "      <td>Final Critic</td>\n",
       "      <td>4.88</td>\n",
       "      <td>8</td>\n",
       "      <td>39.04</td>\n",
       "    </tr>\n",
       "    <tr>\n",
       "      <th>103</th>\n",
       "      <td>Singed Scalpel</td>\n",
       "      <td>4.35</td>\n",
       "      <td>8</td>\n",
       "      <td>34.80</td>\n",
       "    </tr>\n",
       "    <tr>\n",
       "      <th>59</th>\n",
       "      <td>Lightning, Etcher of the King</td>\n",
       "      <td>4.23</td>\n",
       "      <td>8</td>\n",
       "      <td>33.84</td>\n",
       "    </tr>\n",
       "    <tr>\n",
       "      <th>72</th>\n",
       "      <td>Winter's Bite</td>\n",
       "      <td>3.77</td>\n",
       "      <td>8</td>\n",
       "      <td>30.16</td>\n",
       "    </tr>\n",
       "  </tbody>\n",
       "</table>\n",
       "</div>"
      ],
      "text/plain": [
       "                                            Item Name  Price  ID Count  \\\n",
       "Item ID                                                                  \n",
       "178      Oathbreaker, Last Hope of the Breaking Storm   4.23        12   \n",
       "82                                            Nirvana   4.90         9   \n",
       "145                              Fiery Glass Crusader   4.58         9   \n",
       "108         Extraction, Quickblade Of Trembling Hands   3.53         9   \n",
       "92                                       Final Critic   4.88         8   \n",
       "103                                    Singed Scalpel   4.35         8   \n",
       "59                      Lightning, Etcher of the King   4.23         8   \n",
       "72                                      Winter's Bite   3.77         8   \n",
       "\n",
       "         Total Value  \n",
       "Item ID               \n",
       "178            50.76  \n",
       "82             44.10  \n",
       "145            41.22  \n",
       "108            31.77  \n",
       "92             39.04  \n",
       "103            34.80  \n",
       "59             33.84  \n",
       "72             30.16  "
      ]
     },
     "execution_count": 13,
     "metadata": {},
     "output_type": "execute_result"
    }
   ],
   "source": [
    "\n",
    "pop_df = pd_df[['Item ID','Item Name','Price']]\n",
    "pop_df_sorted = pd.DataFrame(pop_df.sort_values([\"Item ID\",\"Item Name\",\"Price\"]))\n",
    "\n",
    "purchase_count = pop_df_sorted.groupby(by = ['Item Name','Price','Item ID'])['Item ID'].count()\n",
    "purchase_count = pd.DataFrame(purchase_count)\n",
    "purchase_count_new = purchase_count.rename(columns={\"Item ID\": \"ID Count\"})\n",
    "purchase_count_final = purchase_count_new.reset_index()\n",
    "purchase_count_final['Total Value'] = purchase_count_final['ID Count']* purchase_count_final['Price']\n",
    "\n",
    "purchase_count_final.sort_values(['ID Count'],ascending=False)\n",
    "\n",
    "pop_df_FINAL = pd.DataFrame(purchase_count_final.sort_values(['ID Count','Price','Total Value'],ascending=[False,False, False]).set_index('Item ID'))\n",
    "\n",
    "pop_df_FINAL.head(8)"
   ]
  },
  {
   "cell_type": "markdown",
   "metadata": {},
   "source": [
    "## Most Profitable Items"
   ]
  },
  {
   "cell_type": "markdown",
   "metadata": {},
   "source": [
    "* Sort the above table by total purchase value in descending order\n",
    "\n",
    "\n",
    "* Optional: give the displayed data cleaner formatting\n",
    "\n",
    "\n",
    "* Display a preview of the data frame\n",
    "\n"
   ]
  },
  {
   "cell_type": "code",
   "execution_count": 14,
   "metadata": {
    "scrolled": true
   },
   "outputs": [
    {
     "data": {
      "text/html": [
       "<div>\n",
       "<style scoped>\n",
       "    .dataframe tbody tr th:only-of-type {\n",
       "        vertical-align: middle;\n",
       "    }\n",
       "\n",
       "    .dataframe tbody tr th {\n",
       "        vertical-align: top;\n",
       "    }\n",
       "\n",
       "    .dataframe thead th {\n",
       "        text-align: right;\n",
       "    }\n",
       "</style>\n",
       "<table border=\"1\" class=\"dataframe\">\n",
       "  <thead>\n",
       "    <tr style=\"text-align: right;\">\n",
       "      <th></th>\n",
       "      <th>Item Name</th>\n",
       "      <th>Price</th>\n",
       "      <th>ID Count</th>\n",
       "      <th>Total Value</th>\n",
       "    </tr>\n",
       "    <tr>\n",
       "      <th>Item ID</th>\n",
       "      <th></th>\n",
       "      <th></th>\n",
       "      <th></th>\n",
       "      <th></th>\n",
       "    </tr>\n",
       "  </thead>\n",
       "  <tbody>\n",
       "    <tr>\n",
       "      <th>178</th>\n",
       "      <td>Oathbreaker, Last Hope of the Breaking Storm</td>\n",
       "      <td>4.23</td>\n",
       "      <td>12</td>\n",
       "      <td>50.76</td>\n",
       "    </tr>\n",
       "    <tr>\n",
       "      <th>82</th>\n",
       "      <td>Nirvana</td>\n",
       "      <td>4.90</td>\n",
       "      <td>9</td>\n",
       "      <td>44.10</td>\n",
       "    </tr>\n",
       "    <tr>\n",
       "      <th>145</th>\n",
       "      <td>Fiery Glass Crusader</td>\n",
       "      <td>4.58</td>\n",
       "      <td>9</td>\n",
       "      <td>41.22</td>\n",
       "    </tr>\n",
       "    <tr>\n",
       "      <th>92</th>\n",
       "      <td>Final Critic</td>\n",
       "      <td>4.88</td>\n",
       "      <td>8</td>\n",
       "      <td>39.04</td>\n",
       "    </tr>\n",
       "    <tr>\n",
       "      <th>103</th>\n",
       "      <td>Singed Scalpel</td>\n",
       "      <td>4.35</td>\n",
       "      <td>8</td>\n",
       "      <td>34.80</td>\n",
       "    </tr>\n",
       "  </tbody>\n",
       "</table>\n",
       "</div>"
      ],
      "text/plain": [
       "                                            Item Name  Price  ID Count  \\\n",
       "Item ID                                                                  \n",
       "178      Oathbreaker, Last Hope of the Breaking Storm   4.23        12   \n",
       "82                                            Nirvana   4.90         9   \n",
       "145                              Fiery Glass Crusader   4.58         9   \n",
       "92                                       Final Critic   4.88         8   \n",
       "103                                    Singed Scalpel   4.35         8   \n",
       "\n",
       "         Total Value  \n",
       "Item ID               \n",
       "178            50.76  \n",
       "82             44.10  \n",
       "145            41.22  \n",
       "92             39.04  \n",
       "103            34.80  "
      ]
     },
     "execution_count": 14,
     "metadata": {},
     "output_type": "execute_result"
    }
   ],
   "source": [
    "pop_df_FINAL_Price = pd.DataFrame(pop_df_FINAL.sort_values(['Total Value'], ascending = False))\n",
    "pop_df_FINAL_Price.head()\n",
    "\n",
    "                                  "
   ]
  },
  {
   "cell_type": "markdown",
   "metadata": {},
   "source": [
    "## Final Observations"
   ]
  },
  {
   "cell_type": "code",
   "execution_count": 32,
   "metadata": {},
   "outputs": [
    {
     "data": {
      "text/plain": [
       "<matplotlib.axes._subplots.AxesSubplot at 0x28a03a84a48>"
      ]
     },
     "execution_count": 32,
     "metadata": {},
     "output_type": "execute_result"
    },
    {
     "data": {
      "image/png": "[encoded data removed]",
      "text/plain": [
       "<Figure size 432x288 with 1 Axes>"
      ]
     },
     "metadata": {
      "needs_background": "light"
     },
     "output_type": "display_data"
    }
   ],
   "source": [
    "\n",
    "plot_age = age_df.reset_index()\n",
    "plot_age.plot(x=\"Age\", y=\"Avg Tot per Person\", kind = \"bar\")"
   ]
  },
  {
   "cell_type": "code",
   "execution_count": 36,
   "metadata": {},
   "outputs": [],
   "source": [
    "# - first observation made was that the 0-10 and 30-40 age groups were the highest avg total spenders\n",
    "# - the 40-50 year age group was the lowest spending group\n"
   ]
  },
  {
   "cell_type": "code",
   "execution_count": 34,
   "metadata": {},
   "outputs": [
    {
     "data": {
      "text/plain": [
       "<matplotlib.axes._subplots.AxesSubplot at 0x28a04ac32c8>"
      ]
     },
     "execution_count": 34,
     "metadata": {},
     "output_type": "execute_result"
    },
    {
     "data": {
      "image/png": "[encoded data removed]",
      "text/plain": [
       "<Figure size 432x288 with 1 Axes>"
      ]
     },
     "metadata": {
      "needs_background": "light"
     },
     "output_type": "display_data"
    }
   ],
   "source": [
    "gen_group.plot(x= \"Gender\", y= \"Purchases Gender\", kind = \"bar\")"
   ]
  },
  {
   "cell_type": "code",
   "execution_count": 37,
   "metadata": {},
   "outputs": [],
   "source": [
    "# - males made the most purchases of any gender group"
   ]
  }
 ],
 "metadata": {
  "anaconda-cloud": {},
  "kernel_info": {
   "name": "python3"
  },
  "kernelspec": {
   "display_name": "pandas_env",
   "language": "python",
   "name": "pandas_env"
  },
  "language_info": {
   "codemirror_mode": {
    "name": "ipython",
    "version": 3
   },
   "file_extension": ".py",
   "mimetype": "text/x-python",
   "name": "python",
   "nbconvert_exporter": "python",
   "pygments_lexer": "ipython3",
   "version": "3.7.5"
  },
  "latex_envs": {
   "LaTeX_envs_menu_present": true,
   "autoclose": false,
   "autocomplete": true,
   "bibliofile": "biblio.bib",
   "cite_by": "apalike",
   "current_citInitial": 1,
   "eqLabelWithNumbers": true,
   "eqNumInitial": 1,
   "hotkeys": {
    "equation": "Ctrl-E",
    "itemize": "Ctrl-I"
   },
   "labels_anchors": false,
   "latex_user_defs": false,
   "report_style_numbering": false,
   "user_envs_cfg": false
  },
  "nteract": {
   "version": "0.2.0"
  }
 },
 "nbformat": 4,
 "nbformat_minor": 4
}
